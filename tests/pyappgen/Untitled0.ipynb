{
 "metadata": {
  "name": ""
 },
 "nbformat": 3,
 "nbformat_minor": 0,
 "worksheets": [
  {
   "cells": [
    {
     "cell_type": "code",
     "collapsed": false,
     "input": [
      "class er():\n",
      "    def __init__(self, epo, ono, pat):\n",
      "        self.epo = epo\n",
      "        self.ono = ono\n",
      "        self.pat = pat\n",
      "    def _tst(self):\n",
      "        return u'%s %s' % (self.epo, self.ono)\n",
      "    "
     ],
     "language": "python",
     "metadata": {},
     "outputs": [],
     "prompt_number": 1
    },
    {
     "cell_type": "code",
     "collapsed": false,
     "input": [
      "ted = er('ted', 'lazaros', 'sdfs')\n"
     ],
     "language": "python",
     "metadata": {},
     "outputs": [],
     "prompt_number": 3
    },
    {
     "cell_type": "code",
     "collapsed": false,
     "input": [
      "print ted._tst()"
     ],
     "language": "python",
     "metadata": {},
     "outputs": [
      {
       "output_type": "stream",
       "stream": "stdout",
       "text": [
        "ted lazaros\n"
       ]
      }
     ],
     "prompt_number": 6
    },
    {
     "cell_type": "code",
     "collapsed": false,
     "input": [
      "# -*- coding: utf-8 -*-\n",
      "'''\n",
      "Created on 4 \u039c\u03b1\u03c1\u03c4\u03af\u03bf\u03c5 2014\n",
      "\n",
      "@author: tedlaz\n",
      "'''\n",
      "from pyappgen import main\n",
      "import config as cfg\n",
      "\n",
      "if __name__ == '__main__':\n",
      "    main.main(cfg)"
     ],
     "language": "python",
     "metadata": {},
     "outputs": [],
     "prompt_number": "*"
    },
    {
     "cell_type": "code",
     "collapsed": false,
     "input": [],
     "language": "python",
     "metadata": {},
     "outputs": [],
     "prompt_number": 1
    },
    {
     "cell_type": "code",
     "collapsed": false,
     "input": [],
     "language": "python",
     "metadata": {},
     "outputs": []
    }
   ],
   "metadata": {}
  }
 ]
}