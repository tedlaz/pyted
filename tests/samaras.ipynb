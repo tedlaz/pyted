{
 "cells": [
  {
   "cell_type": "code",
   "execution_count": 1,
   "metadata": {
    "collapsed": false
   },
   "outputs": [
    {
     "name": "stderr",
     "output_type": "stream",
     "text": [
      "/home/tedlaz/prj/env2/lib/python2.7/site-packages/IPython/core/interactiveshell.py:2881: FutureWarning: \n",
      "mpl_style had been deprecated and will be removed in a future version.\n",
      "Use `matplotlib.pyplot.style.use` instead.\n",
      "\n",
      "  exec(code_obj, self.user_global_ns, self.user_ns)\n"
     ]
    },
    {
     "ename": "ImportError",
     "evalue": "No module named tedutil",
     "output_type": "error",
     "traceback": [
      "\u001b[0;31m---------------------------------------------------------------------------\u001b[0m",
      "\u001b[0;31mImportError\u001b[0m                               Traceback (most recent call last)",
      "\u001b[0;32m<ipython-input-1-e3b50a37f003>\u001b[0m in \u001b[0;36m<module>\u001b[0;34m()\u001b[0m\n\u001b[1;32m     10\u001b[0m \u001b[0mpd\u001b[0m\u001b[0;34m.\u001b[0m\u001b[0mset_option\u001b[0m\u001b[0;34m(\u001b[0m\u001b[0;34m'display.mpl_style'\u001b[0m\u001b[0;34m,\u001b[0m \u001b[0;34m'default'\u001b[0m\u001b[0;34m)\u001b[0m \u001b[0;31m# Make the graphs a bit prettier\u001b[0m\u001b[0;34m\u001b[0m\u001b[0m\n\u001b[1;32m     11\u001b[0m \u001b[0mplt\u001b[0m\u001b[0;34m.\u001b[0m\u001b[0mrcParams\u001b[0m\u001b[0;34m[\u001b[0m\u001b[0;34m'figure.figsize'\u001b[0m\u001b[0;34m]\u001b[0m \u001b[0;34m=\u001b[0m \u001b[0;34m(\u001b[0m\u001b[0;36m15\u001b[0m\u001b[0;34m,\u001b[0m \u001b[0;36m7\u001b[0m\u001b[0;34m)\u001b[0m\u001b[0;34m\u001b[0m\u001b[0m\n\u001b[0;32m---> 12\u001b[0;31m \u001b[0;32mfrom\u001b[0m \u001b[0mtedutil\u001b[0m \u001b[0;32mimport\u001b[0m \u001b[0misozygio\u001b[0m\u001b[0;34m\u001b[0m\u001b[0m\n\u001b[0m\u001b[1;32m     13\u001b[0m \u001b[0mdb\u001b[0m \u001b[0;34m=\u001b[0m \u001b[0;34m'/home/tedlaz/tmp/samaratot/el1115.sql3'\u001b[0m\u001b[0;34m\u001b[0m\u001b[0m\n\u001b[1;32m     14\u001b[0m sql = \"\"\"select tr.dat as dat, substr(lmo.lmo,1,{0}) as lmo, trd.xr, trd.pi \n",
      "\u001b[0;31mImportError\u001b[0m: No module named tedutil"
     ]
    }
   ],
   "source": [
    "import pandas as pd\n",
    "import numpy as np\n",
    "import matplotlib as mpl\n",
    "import matplotlib.pyplot as plt\n",
    "%matplotlib inline\n",
    "pd.set_option('display.notebook_repr_html', True)\n",
    "pd.set_option('display.max_columns', 100)\n",
    "pd.set_option('display.max_rows', 1000)\n",
    "pd.set_option('display.width', 5000) \n",
    "pd.set_option('display.mpl_style', 'default') # Make the graphs a bit prettier\n",
    "plt.rcParams['figure.figsize'] = (15, 7)\n",
    "from tedutil import isozygio\n",
    "db = '/home/tedlaz/tmp/samaratot/el1115.sql3'\n",
    "sql = \"\"\"select tr.dat as dat, substr(lmo.lmo,1,{0}) as lmo, trd.xr, trd.pi \n",
    "from trd \n",
    "inner join tr on tr.id=trd.id_tr \n",
    "inner join lmo on lmo.id=trd.id_lmo\n",
    "Where lmo.lmo like '{1}%'\"\"\"\n"
   ]
  },
  {
   "cell_type": "code",
   "execution_count": 2,
   "metadata": {
    "collapsed": true
   },
   "outputs": [],
   "source": [
    "def calc(lmo, lsize=2, period='y', multiplier=False):\n",
    "    sqf = sql.format(lsize, lmo)\n",
    "    aa, stt = isozygio.arr(db, sqf, period)\n",
    "    asd = pd.DataFrame(aa)\n",
    "    asd.columns = stt\n",
    "    asd.set_index('Lmoi', inplace=True)\n",
    "    asd.index.name = None\n",
    "    asd = asd.replace('-', 'NaN', regex=True).astype('float')\n",
    "    if multiplier:\n",
    "        return asd.T * -1\n",
    "    else:\n",
    "        return asd.T"
   ]
  },
  {
   "cell_type": "code",
   "execution_count": 3,
   "metadata": {
    "collapsed": false,
    "scrolled": true
   },
   "outputs": [
    {
     "data": {
      "text/plain": [
       "2011    361173.81\n",
       "2012    413640.10\n",
       "2013    236552.77\n",
       "2014    138171.13\n",
       "2015    104070.65\n",
       "Name: 6, dtype: float64"
      ]
     },
     "execution_count": 3,
     "metadata": {},
     "output_type": "execute_result"
    }
   ],
   "source": [
    "om6 = calc(6)['6']\n",
    "om6"
   ]
  },
  {
   "cell_type": "code",
   "execution_count": 4,
   "metadata": {
    "collapsed": false,
    "scrolled": true
   },
   "outputs": [
    {
     "data": {
      "text/plain": [
       "<matplotlib.axes._subplots.AxesSubplot at 0x7f9294453510>"
      ]
     },
     "execution_count": 4,
     "metadata": {},
     "output_type": "execute_result"
    },
    {
     "data": {
      "image/png": "[encoded data removed]",
      "text/plain": [
       "<matplotlib.figure.Figure at 0x7f929449f6d0>"
      ]
     },
     "metadata": {},
     "output_type": "display_data"
    }
   ],
   "source": [
    "om6.plot(kind='bar')"
   ]
  },
  {
   "cell_type": "code",
   "execution_count": 5,
   "metadata": {
    "collapsed": false
   },
   "outputs": [
    {
     "data": {
      "text/plain": [
       "2011     927906.36\n",
       "2012    1001230.70\n",
       "2013     459007.22\n",
       "2014     177336.33\n",
       "2015     181856.52\n",
       "Name: 7, dtype: float64"
      ]
     },
     "execution_count": 5,
     "metadata": {},
     "output_type": "execute_result"
    }
   ],
   "source": [
    "om7 = calc(7, multiplier=True)['7']\n",
    "om7"
   ]
  },
  {
   "cell_type": "code",
   "execution_count": 6,
   "metadata": {
    "collapsed": false
   },
   "outputs": [
    {
     "data": {
      "text/plain": [
       "<matplotlib.axes._subplots.AxesSubplot at 0x7f9269795b90>"
      ]
     },
     "execution_count": 6,
     "metadata": {},
     "output_type": "execute_result"
    },
    {
     "data": {
      "image/png": "[encoded data removed]",
      "text/plain": [
       "<matplotlib.figure.Figure at 0x7f9269883e90>"
      ]
     },
     "metadata": {},
     "output_type": "display_data"
    }
   ],
   "source": [
    "om7.plot(kind='bar')"
   ]
  },
  {
   "cell_type": "code",
   "execution_count": 7,
   "metadata": {
    "collapsed": false
   },
   "outputs": [
    {
     "data": {
      "text/plain": [
       "2011    356850.65\n",
       "2012    537624.97\n",
       "2013    182630.58\n",
       "2014     72208.65\n",
       "2015    109144.74\n",
       "Name: 2, dtype: float64"
      ]
     },
     "execution_count": 7,
     "metadata": {},
     "output_type": "execute_result"
    }
   ],
   "source": [
    "om2 = calc(2, multiplier=False)['2']\n",
    "om2"
   ]
  },
  {
   "cell_type": "code",
   "execution_count": 8,
   "metadata": {
    "collapsed": false
   },
   "outputs": [
    {
     "data": {
      "text/plain": [
       "<matplotlib.axes._subplots.AxesSubplot at 0x7f9269815090>"
      ]
     },
     "execution_count": 8,
     "metadata": {},
     "output_type": "execute_result"
    },
    {
     "data": {
      "image/png": "[encoded data removed]",
      "text/plain": [
       "<matplotlib.figure.Figure at 0x7f9269883e10>"
      ]
     },
     "metadata": {},
     "output_type": "display_data"
    }
   ],
   "source": [
    "om2.plot(kind='bar')"
   ]
  },
  {
   "cell_type": "code",
   "execution_count": 9,
   "metadata": {
    "collapsed": false
   },
   "outputs": [
    {
     "data": {
      "text/html": [
       "<div>\n",
       "<table border=\"1\" class=\"dataframe\">\n",
       "  <thead>\n",
       "    <tr style=\"text-align: right;\">\n",
       "      <th></th>\n",
       "      <th>esoda</th>\n",
       "      <th>ejoda</th>\n",
       "      <th>kerdi</th>\n",
       "      <th>om6</th>\n",
       "      <th>om2</th>\n",
       "      <th>kpol</th>\n",
       "    </tr>\n",
       "  </thead>\n",
       "  <tbody>\n",
       "    <tr>\n",
       "      <th>2011</th>\n",
       "      <td>927906.36</td>\n",
       "      <td>718024.02</td>\n",
       "      <td>209882.34</td>\n",
       "      <td>361173.81</td>\n",
       "      <td>356850.65</td>\n",
       "      <td>356850.21</td>\n",
       "    </tr>\n",
       "    <tr>\n",
       "      <th>2012</th>\n",
       "      <td>1001230.70</td>\n",
       "      <td>950640.22</td>\n",
       "      <td>50590.48</td>\n",
       "      <td>413640.10</td>\n",
       "      <td>537624.97</td>\n",
       "      <td>537000.12</td>\n",
       "    </tr>\n",
       "    <tr>\n",
       "      <th>2013</th>\n",
       "      <td>459007.22</td>\n",
       "      <td>419159.18</td>\n",
       "      <td>39848.04</td>\n",
       "      <td>236552.77</td>\n",
       "      <td>182630.58</td>\n",
       "      <td>182606.41</td>\n",
       "    </tr>\n",
       "    <tr>\n",
       "      <th>2014</th>\n",
       "      <td>177336.33</td>\n",
       "      <td>245976.90</td>\n",
       "      <td>-68640.57</td>\n",
       "      <td>138171.13</td>\n",
       "      <td>72208.65</td>\n",
       "      <td>107805.77</td>\n",
       "    </tr>\n",
       "    <tr>\n",
       "      <th>2015</th>\n",
       "      <td>181856.52</td>\n",
       "      <td>231090.91</td>\n",
       "      <td>-49234.39</td>\n",
       "      <td>104070.65</td>\n",
       "      <td>109144.74</td>\n",
       "      <td>127020.26</td>\n",
       "    </tr>\n",
       "  </tbody>\n",
       "</table>\n",
       "</div>"
      ],
      "text/plain": [
       "           esoda      ejoda      kerdi        om6        om2       kpol\n",
       "2011   927906.36  718024.02  209882.34  361173.81  356850.65  356850.21\n",
       "2012  1001230.70  950640.22   50590.48  413640.10  537624.97  537000.12\n",
       "2013   459007.22  419159.18   39848.04  236552.77  182630.58  182606.41\n",
       "2014   177336.33  245976.90  -68640.57  138171.13   72208.65  107805.77\n",
       "2015   181856.52  231090.91  -49234.39  104070.65  109144.74  127020.26"
      ]
     },
     "execution_count": 9,
     "metadata": {},
     "output_type": "execute_result"
    }
   ],
   "source": [
    "kpol = pd.Series([356850.21, 537000.12, 182606.41, 107805.77, 127020.26], index=['2011', '2012', '2013', '2014', '2015'])\n",
    "kerdi = om7 - om6 - kpol\n",
    "ejoda = om6 + kpol\n",
    "df = pd.DataFrame({'esoda': om7, 'ejoda': ejoda, 'kerdi': kerdi, 'om6': om6, 'om2': om2, 'kpol': kpol})\n",
    "df[['esoda', 'ejoda', 'kerdi', 'om6','om2', 'kpol']]"
   ]
  },
  {
   "cell_type": "code",
   "execution_count": 10,
   "metadata": {
    "collapsed": false
   },
   "outputs": [
    {
     "data": {
      "text/plain": [
       "<matplotlib.axes._subplots.AxesSubplot at 0x7f92697291d0>"
      ]
     },
     "execution_count": 10,
     "metadata": {},
     "output_type": "execute_result"
    },
    {
     "data": {
      "image/png": "[encoded data removed]",
      "text/plain": [
       "<matplotlib.figure.Figure at 0x7f92696dde90>"
      ]
     },
     "metadata": {},
     "output_type": "display_data"
    }
   ],
   "source": [
    "df[['esoda', 'ejoda', 'kerdi', 'om6', 'kpol']].plot(kind='bar')"
   ]
  },
  {
   "cell_type": "code",
   "execution_count": null,
   "metadata": {
    "collapsed": true
   },
   "outputs": [],
   "source": []
  }
 ],
 "metadata": {
  "kernelspec": {
   "display_name": "Python 2",
   "language": "python",
   "name": "python2"
  },
  "language_info": {
   "codemirror_mode": {
    "name": "ipython",
    "version": 2
   },
   "file_extension": ".py",
   "mimetype": "text/x-python",
   "name": "python",
   "nbconvert_exporter": "python",
   "pygments_lexer": "ipython2",
   "version": "2.7.12"
  }
 },
 "nbformat": 4,
 "nbformat_minor": 0
}
